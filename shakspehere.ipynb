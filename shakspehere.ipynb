{
  "nbformat": 4,
  "nbformat_minor": 0,
  "metadata": {
    "colab": {
      "provenance": [],
      "gpuType": "T4"
    },
    "kernelspec": {
      "name": "python3",
      "display_name": "Python 3"
    },
    "language_info": {
      "name": "python"
    },
    "accelerator": "GPU"
  },
  "cells": [
    {
      "cell_type": "code",
      "source": [
        "import os\n",
        "import numpy as np\n",
        "import pandas as pd\n",
        "import matplotlib.pyplot as plt\n",
        "import tensorflow as tf\n",
        "from sklearn.model_selection import train_test_split\n",
        "from tensorflow.keras import layers, models\n",
        "from tensorflow.keras.callbacks import ModelCheckpoint\n"
      ],
      "metadata": {
        "id": "aZye0su9TPEw"
      },
      "execution_count": 1,
      "outputs": []
    },
    {
      "cell_type": "code",
      "source": [
        "!pip install kaggle"
      ],
      "metadata": {
        "colab": {
          "base_uri": "https://localhost:8080/"
        },
        "collapsed": true,
        "id": "7xmoA9xJVHnf",
        "outputId": "51ee69d6-d0cc-4ad2-8e0a-4c2365355081"
      },
      "execution_count": 2,
      "outputs": [
        {
          "output_type": "stream",
          "name": "stdout",
          "text": [
            "Requirement already satisfied: kaggle in /usr/local/lib/python3.11/dist-packages (1.7.4.2)\n",
            "Requirement already satisfied: bleach in /usr/local/lib/python3.11/dist-packages (from kaggle) (6.2.0)\n",
            "Requirement already satisfied: certifi>=14.05.14 in /usr/local/lib/python3.11/dist-packages (from kaggle) (2025.1.31)\n",
            "Requirement already satisfied: charset-normalizer in /usr/local/lib/python3.11/dist-packages (from kaggle) (3.4.1)\n",
            "Requirement already satisfied: idna in /usr/local/lib/python3.11/dist-packages (from kaggle) (3.10)\n",
            "Requirement already satisfied: protobuf in /usr/local/lib/python3.11/dist-packages (from kaggle) (5.29.4)\n",
            "Requirement already satisfied: python-dateutil>=2.5.3 in /usr/local/lib/python3.11/dist-packages (from kaggle) (2.8.2)\n",
            "Requirement already satisfied: python-slugify in /usr/local/lib/python3.11/dist-packages (from kaggle) (8.0.4)\n",
            "Requirement already satisfied: requests in /usr/local/lib/python3.11/dist-packages (from kaggle) (2.32.3)\n",
            "Requirement already satisfied: setuptools>=21.0.0 in /usr/local/lib/python3.11/dist-packages (from kaggle) (75.2.0)\n",
            "Requirement already satisfied: six>=1.10 in /usr/local/lib/python3.11/dist-packages (from kaggle) (1.17.0)\n",
            "Requirement already satisfied: text-unidecode in /usr/local/lib/python3.11/dist-packages (from kaggle) (1.3)\n",
            "Requirement already satisfied: tqdm in /usr/local/lib/python3.11/dist-packages (from kaggle) (4.67.1)\n",
            "Requirement already satisfied: urllib3>=1.15.1 in /usr/local/lib/python3.11/dist-packages (from kaggle) (2.3.0)\n",
            "Requirement already satisfied: webencodings in /usr/local/lib/python3.11/dist-packages (from kaggle) (0.5.1)\n"
          ]
        }
      ]
    },
    {
      "cell_type": "code",
      "source": [
        "!kaggle datasets download -d kingburrito666/shakespeare-plays"
      ],
      "metadata": {
        "colab": {
          "base_uri": "https://localhost:8080/"
        },
        "collapsed": true,
        "id": "ruQDUrGXmXZB",
        "outputId": "c559f5a0-8018-4c35-82ef-7bc69565d48f"
      },
      "execution_count": 3,
      "outputs": [
        {
          "output_type": "stream",
          "name": "stdout",
          "text": [
            "Traceback (most recent call last):\n",
            "  File \"/usr/local/bin/kaggle\", line 10, in <module>\n",
            "    sys.exit(main())\n",
            "             ^^^^^^\n",
            "  File \"/usr/local/lib/python3.11/dist-packages/kaggle/cli.py\", line 68, in main\n",
            "    out = args.func(**command_args)\n",
            "          ^^^^^^^^^^^^^^^^^^^^^^^^^\n",
            "  File \"/usr/local/lib/python3.11/dist-packages/kaggle/api/kaggle_api_extended.py\", line 1734, in dataset_download_cli\n",
            "    with self.build_kaggle_client() as kaggle:\n",
            "         ^^^^^^^^^^^^^^^^^^^^^^^^^^\n",
            "  File \"/usr/local/lib/python3.11/dist-packages/kaggle/api/kaggle_api_extended.py\", line 688, in build_kaggle_client\n",
            "    username=self.config_values['username'],\n",
            "             ~~~~~~~~~~~~~~~~~~^^^^^^^^^^^^\n",
            "KeyError: 'username'\n"
          ]
        }
      ]
    },
    {
      "cell_type": "code",
      "source": [
        "import kagglehub\n",
        "import os\n",
        "import numpy as np\n",
        "import shutil\n",
        "import pandas as pd\n",
        "\n",
        "# Download the dataset\n",
        "shakespeare_dataset_path = kagglehub.dataset_download(\"kingburrito666/shakespeare-plays\")\n",
        "print(' dataset import complete.')"
      ],
      "metadata": {
        "colab": {
          "base_uri": "https://localhost:8080/"
        },
        "collapsed": true,
        "id": "vYBS5B8kp1Ee",
        "outputId": "f6af612e-5b2b-41a0-fe30-687d29abca7c"
      },
      "execution_count": 4,
      "outputs": [
        {
          "output_type": "stream",
          "name": "stdout",
          "text": [
            "Downloading from https://www.kaggle.com/api/v1/datasets/download/kingburrito666/shakespeare-plays?dataset_version_number=4...\n"
          ]
        },
        {
          "output_type": "stream",
          "name": "stderr",
          "text": [
            "100%|██████████| 4.55M/4.55M [00:00<00:00, 127MB/s]"
          ]
        },
        {
          "output_type": "stream",
          "name": "stdout",
          "text": [
            "Extracting files...\n"
          ]
        },
        {
          "output_type": "stream",
          "name": "stderr",
          "text": [
            "\n"
          ]
        },
        {
          "output_type": "stream",
          "name": "stdout",
          "text": [
            " dataset import complete.\n"
          ]
        }
      ]
    },
    {
      "cell_type": "markdown",
      "source": [
        "# **2. Load and Inspect Dataset**"
      ],
      "metadata": {
        "id": "hryGoeBFtUN8"
      }
    },
    {
      "cell_type": "code",
      "source": [
        "import os\n",
        "\n",
        "# Build the correct file path\n",
        "data_path = os.path.join(shakespeare_dataset_path, 'alllines.txt')\n",
        "\n",
        "# Load the text data\n",
        "with open(data_path, 'r', encoding='utf-8') as f:\n",
        "    text = f.read()\n",
        "\n",
        "# Print some basic info\n",
        "print(f\"Text length: {len(text)} characters\")\n",
        "print(text[:500])  # preview the first 500 characters\n"
      ],
      "metadata": {
        "colab": {
          "base_uri": "https://localhost:8080/"
        },
        "id": "T9B29WKuwBA-",
        "outputId": "3fb48c17-1501-4872-94e2-d6ff272ded4b"
      },
      "execution_count": 5,
      "outputs": [
        {
          "output_type": "stream",
          "name": "stdout",
          "text": [
            "Text length: 4583798 characters\n",
            "\"ACT I\"\n",
            "\"SCENE I. London. The palace.\"\n",
            "\"Enter KING HENRY, LORD JOHN OF LANCASTER, the EARL of WESTMORELAND, SIR WALTER BLUNT, and others\"\n",
            "\"So shaken as we are, so wan with care,\"\n",
            "\"Find we a time for frighted peace to pant,\"\n",
            "\"And breathe short-winded accents of new broils\"\n",
            "\"To be commenced in strands afar remote.\"\n",
            "\"No more the thirsty entrance of this soil\"\n",
            "\"Shall daub her lips with her own children's blood,\"\n",
            "\"Nor more shall trenching war channel her fields,\"\n",
            "\"Nor bruise her flowerets with the ar\n"
          ]
        }
      ]
    },
    {
      "cell_type": "markdown",
      "source": [
        "# **3. Character Mapping & Encoding**"
      ],
      "metadata": {
        "id": "kfY6YuA7wIKS"
      }
    },
    {
      "cell_type": "code",
      "source": [
        "# Unique characters\n",
        "chars = sorted(set(text))\n",
        "char2idx = {u: i for i, u in enumerate(chars)}\n",
        "idx2char = np.array(chars)\n",
        "\n",
        "# Encode text to integers\n",
        "text_as_int = np.array([char2idx[c] for c in text])\n"
      ],
      "metadata": {
        "id": "0uOeaGMUwJ0k"
      },
      "execution_count": 6,
      "outputs": []
    },
    {
      "cell_type": "markdown",
      "source": [
        "# **4. Create Sequences for Training**"
      ],
      "metadata": {
        "id": "-QC1Gq0gwNRi"
      }
    },
    {
      "cell_type": "code",
      "source": [
        "# Hyperparameters\n",
        "sequence_length = 100\n",
        "batch_size = 64\n",
        "buffer_size = 10000\n",
        "\n",
        "char_dataset = tf.data.Dataset.from_tensor_slices(text_as_int)\n",
        "sequences = char_dataset.batch(sequence_length + 1, drop_remainder=True)\n",
        "\n",
        "def split_input_target(chunk):\n",
        "    return chunk[:-1], chunk[1:]\n",
        "\n",
        "dataset = sequences.map(split_input_target)\n",
        "dataset = dataset.shuffle(buffer_size).batch(batch_size, drop_remainder=True)\n",
        "\n",
        "# Validation split\n",
        "val_size = int(0.1 * len(dataset))\n",
        "val_dataset = dataset.take(val_size)\n",
        "train_dataset = dataset.skip(val_size)\n"
      ],
      "metadata": {
        "id": "BXbcfn29wMga"
      },
      "execution_count": 7,
      "outputs": []
    },
    {
      "cell_type": "markdown",
      "source": [
        "# **5. Build LSTM Model**"
      ],
      "metadata": {
        "id": "seTABxsiwUQS"
      }
    },
    {
      "cell_type": "code",
      "source": [
        "# Model Hyperparameters\n",
        "embedding_dim = 256\n",
        "rnn_units = 1024\n",
        "dropout = 0.2\n",
        "\n",
        "def build_model(vocab_size, embedding_dim, rnn_units, batch_size):\n",
        "    model = tf.keras.Sequential([\n",
        "        layers.Input(batch_shape=(batch_size, None)),\n",
        "        layers.Embedding(vocab_size, embedding_dim),\n",
        "        layers.LSTM(rnn_units, return_sequences=True, stateful=True, dropout=dropout),\n",
        "        layers.Dense(vocab_size)\n",
        "    ])\n",
        "    return model\n",
        "\n",
        "vocab_size = len(chars)\n",
        "model = build_model(vocab_size, embedding_dim, rnn_units, batch_size)\n"
      ],
      "metadata": {
        "id": "GzWMUu6nwYnv"
      },
      "execution_count": 8,
      "outputs": []
    },
    {
      "cell_type": "markdown",
      "source": [
        "# **6. Compile and Train**"
      ],
      "metadata": {
        "id": "03US0MHzwppf"
      }
    },
    {
      "cell_type": "code",
      "source": [
        "learning_rate = 0.001\n",
        "\n",
        "model.compile(optimizer=tf.keras.optimizers.Adam(learning_rate),\n",
        "              loss=tf.keras.losses.SparseCategoricalCrossentropy(from_logits=True),\n",
        "              metrics=['accuracy'])\n",
        "\n",
        "checkpoint_path = './shakespeare_model.h5'\n",
        "checkpoint_cb = ModelCheckpoint(filepath=checkpoint_path, save_best_only=True)\n",
        "\n",
        "history = model.fit(train_dataset, validation_data=val_dataset, epochs=15, callbacks=[checkpoint_cb])\n"
      ],
      "metadata": {
        "colab": {
          "base_uri": "https://localhost:8080/"
        },
        "id": "2ouHm5Mvw1cR",
        "outputId": "5ecdc49d-d329-4989-ab28-2764b33f0f2d"
      },
      "execution_count": null,
      "outputs": [
        {
          "output_type": "stream",
          "name": "stdout",
          "text": [
            "Epoch 1/15\n",
            "\u001b[1m 21/639\u001b[0m \u001b[37m━━━━━━━━━━━━━━━━━━━━\u001b[0m \u001b[1m1:22:50\u001b[0m 8s/step - accuracy: 0.0923 - loss: 4.0038"
          ]
        }
      ]
    },
    {
      "cell_type": "markdown",
      "source": [
        "# **7. Plot Loss and Accuracy**"
      ],
      "metadata": {
        "id": "22dSMtdI1LYz"
      }
    },
    {
      "cell_type": "code",
      "source": [
        "plt.figure(figsize=(12, 4))\n",
        "\n",
        "plt.subplot(1, 2, 1)\n",
        "plt.plot(history.history['accuracy'], label='Train Accuracy')\n",
        "plt.plot(history.history['val_accuracy'], label='Val Accuracy')\n",
        "plt.legend()\n",
        "plt.title('Accuracy')\n",
        "\n",
        "plt.subplot(1, 2, 2)\n",
        "plt.plot(history.history['loss'], label='Train Loss')\n",
        "plt.plot(history.history['val_loss'], label='Val Loss')\n",
        "plt.legend()\n",
        "plt.title('Loss')\n",
        "\n",
        "plt.show()\n"
      ],
      "metadata": {
        "colab": {
          "base_uri": "https://localhost:8080/",
          "height": 300
        },
        "id": "qGCpsU0m1V1Z",
        "outputId": "f22839eb-dc90-42b4-eb86-4af0caaa558f"
      },
      "execution_count": 10,
      "outputs": [
        {
          "output_type": "display_data",
          "data": {
            "text/plain": [
              "<Figure size 1200x400 with 2 Axes>"
            ],
            "image/png": "[encoded data removed]"
          },
          "metadata": {}
        }
      ]
    },
    {
      "cell_type": "markdown",
      "source": [
        "# **8. Generate Text**"
      ],
      "metadata": {
        "id": "-cZVPYeX1aJz"
      }
    },
    {
      "cell_type": "code",
      "source": [
        "def generate_text(model, start_string, temperature=1.0, num_generate=1000):\n",
        "    # Convert start string to numbers (vectorize)\n",
        "    input_eval = [char2idx[s] for s in start_string]\n",
        "    input_eval = tf.expand_dims(input_eval, 0)\n",
        "\n",
        "    # Empty list to store results\n",
        "    text_generated = []\n",
        "\n",
        "    # Reset states for RNN layers only\n",
        "    for layer in model.layers:\n",
        "        if hasattr(layer, 'reset_states'):\n",
        "            layer.reset_states()\n",
        "\n",
        "    for _ in range(num_generate):\n",
        "        predictions = model(input_eval)\n",
        "        predictions = predictions[:, -1, :] / temperature\n",
        "        predicted_id = tf.random.categorical(predictions, num_samples=1)[-1, 0].numpy()\n",
        "\n",
        "        # Feed the prediction back into the model\n",
        "        input_eval = tf.expand_dims([predicted_id], 0)\n",
        "        text_generated.append(idx2char[predicted_id])\n",
        "\n",
        "    return start_string + ''.join(text_generated)\n"
      ],
      "metadata": {
        "id": "_aOqxAon1dFG"
      },
      "execution_count": 24,
      "outputs": []
    },
    {
      "cell_type": "markdown",
      "source": [
        "# **BLEU Score Evaluation**"
      ],
      "metadata": {
        "id": "5te2jHB12D_J"
      }
    },
    {
      "cell_type": "code",
      "source": [
        "from nltk.translate.bleu_score import sentence_bleu, SmoothingFunction\n",
        "\n",
        "generated = generate_text(model, start_string=\"To be\", temperature=0.8, num_generate=200)\n",
        "reference = text[text.find(\"To be\"):text.find(\"To be\")+200]\n",
        "\n",
        "smoothie = SmoothingFunction().method4\n",
        "score = sentence_bleu([list(reference)], list(generated), smoothing_function=smoothie)\n",
        "print(\"BLEU score:\", score)\n"
      ],
      "metadata": {
        "colab": {
          "base_uri": "https://localhost:8080/"
        },
        "id": "qB7UkTk17Kzm",
        "outputId": "f03a8473-8f85-4dbe-bfcd-6817775a85b7"
      },
      "execution_count": 34,
      "outputs": [
        {
          "output_type": "stream",
          "name": "stdout",
          "text": [
            "BLEU score: 0.3101686256746156\n"
          ]
        }
      ]
    },
    {
      "cell_type": "code",
      "source": [
        "\n"
      ],
      "metadata": {
        "id": "jrgaac9oFU-M"
      },
      "execution_count": null,
      "outputs": []
    }
  ]
}